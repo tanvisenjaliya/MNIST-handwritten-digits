{
 "cells": [
  {
   "cell_type": "markdown",
   "id": "678bfba8",
   "metadata": {
    "papermill": {
     "duration": 0.04548,
     "end_time": "2022-03-28T11:56:25.357353",
     "exception": false,
     "start_time": "2022-03-28T11:56:25.311873",
     "status": "completed"
    },
    "tags": []
   },
   "source": [
    "# <font color=darkgreen> Building a DNN and CNN on MNIST</font>"
   ]
  },
  {
   "cell_type": "markdown",
   "id": "2880fe04",
   "metadata": {
    "papermill": {
     "duration": 0.03879,
     "end_time": "2022-03-28T11:56:25.440174",
     "exception": false,
     "start_time": "2022-03-28T11:56:25.401384",
     "status": "completed"
    },
    "tags": []
   },
   "source": [
    "### <font color=deeppink> Import our essential libraries </font>"
   ]
  },
  {
   "cell_type": "code",
   "execution_count": 1,
   "id": "8806906f",
   "metadata": {
    "execution": {
     "iopub.execute_input": "2022-03-28T11:56:25.528645Z",
     "iopub.status.busy": "2022-03-28T11:56:25.528119Z",
     "iopub.status.idle": "2022-03-28T11:56:29.784853Z",
     "shell.execute_reply": "2022-03-28T11:56:29.784217Z",
     "shell.execute_reply.started": "2022-03-28T11:34:18.981449Z"
    },
    "papermill": {
     "duration": 4.30591,
     "end_time": "2022-03-28T11:56:29.785009",
     "exception": false,
     "start_time": "2022-03-28T11:56:25.479099",
     "status": "completed"
    },
    "tags": []
   },
   "outputs": [],
   "source": [
    "import sys\n",
    "import os\n",
    "import numpy as np\n",
    "import tensorflow as tf\n",
    "import matplotlib.pyplot as plt\n",
    "# %matplotlib inline"
   ]
  },
  {
   "cell_type": "markdown",
   "id": "d177d961",
   "metadata": {
    "papermill": {
     "duration": 0.039791,
     "end_time": "2022-03-28T11:56:29.865852",
     "exception": false,
     "start_time": "2022-03-28T11:56:29.826061",
     "status": "completed"
    },
    "tags": []
   },
   "source": [
    "### <font color=deeppink> Loading the MNIST dataset </font>"
   ]
  },
  {
   "cell_type": "code",
   "execution_count": 2,
   "id": "993dd4db",
   "metadata": {
    "execution": {
     "iopub.execute_input": "2022-03-28T11:56:29.950782Z",
     "iopub.status.busy": "2022-03-28T11:56:29.950116Z",
     "iopub.status.idle": "2022-03-28T11:56:31.537509Z",
     "shell.execute_reply": "2022-03-28T11:56:31.537015Z",
     "shell.execute_reply.started": "2022-03-28T11:34:18.991677Z"
    },
    "papermill": {
     "duration": 1.632316,
     "end_time": "2022-03-28T11:56:31.537659",
     "exception": false,
     "start_time": "2022-03-28T11:56:29.905343",
     "status": "completed"
    },
    "tags": []
   },
   "outputs": [
    {
     "name": "stdout",
     "output_type": "stream",
     "text": [
      "Downloading data from https://storage.googleapis.com/tensorflow/tf-keras-datasets/mnist.npz\n",
      "11493376/11490434 [==============================] - 0s 0us/step\n",
      "11501568/11490434 [==============================] - 0s 0us/step\n"
     ]
    }
   ],
   "source": [
    "from tensorflow.keras.datasets import mnist\n",
    "(train_images, train_labels), (test_images, test_labels) = mnist.load_data()"
   ]
  },
  {
   "cell_type": "code",
   "execution_count": 3,
   "id": "f15c68bb",
   "metadata": {
    "execution": {
     "iopub.execute_input": "2022-03-28T11:56:31.626031Z",
     "iopub.status.busy": "2022-03-28T11:56:31.625176Z",
     "iopub.status.idle": "2022-03-28T11:56:31.628043Z",
     "shell.execute_reply": "2022-03-28T11:56:31.628630Z",
     "shell.execute_reply.started": "2022-03-28T11:34:19.275215Z"
    },
    "papermill": {
     "duration": 0.049157,
     "end_time": "2022-03-28T11:56:31.628797",
     "exception": false,
     "start_time": "2022-03-28T11:56:31.579640",
     "status": "completed"
    },
    "tags": []
   },
   "outputs": [
    {
     "name": "stdout",
     "output_type": "stream",
     "text": [
      "Axes = 3 \n",
      "Shape = (60000, 28, 28) \n",
      "DataType = uint8\n"
     ]
    }
   ],
   "source": [
    "# Display the dimensions of the data\n",
    "# Train images - axes, shape, datatype\n",
    "print(\"Axes = {}\".format(train_images.ndim), #axes\n",
    "'\\nShape = {}'.format(train_images.shape), #shape\n",
    "'\\nDataType = {}'.format(train_images.dtype)) #datatype        "
   ]
  },
  {
   "cell_type": "code",
   "execution_count": 4,
   "id": "fe712dff",
   "metadata": {
    "execution": {
     "iopub.execute_input": "2022-03-28T11:56:31.716457Z",
     "iopub.status.busy": "2022-03-28T11:56:31.715867Z",
     "iopub.status.idle": "2022-03-28T11:56:31.718610Z",
     "shell.execute_reply": "2022-03-28T11:56:31.719168Z",
     "shell.execute_reply.started": "2022-03-28T11:34:19.284651Z"
    },
    "papermill": {
     "duration": 0.048275,
     "end_time": "2022-03-28T11:56:31.719343",
     "exception": false,
     "start_time": "2022-03-28T11:56:31.671068",
     "status": "completed"
    },
    "tags": []
   },
   "outputs": [
    {
     "name": "stdout",
     "output_type": "stream",
     "text": [
      "Axes = 3 \n",
      "Shape = (10000, 28, 28) \n",
      "DataType = uint8\n"
     ]
    }
   ],
   "source": [
    "# Display the dimensions of the data\n",
    "# Test images - axes, shape, datatype\n",
    "print(\"Axes = {}\".format(test_images.ndim), #axes\n",
    "'\\nShape = {}'.format(test_images.shape), #shape\n",
    "'\\nDataType = {}'.format(test_images.dtype)) #datatype"
   ]
  },
  {
   "cell_type": "code",
   "execution_count": 5,
   "id": "99f15918",
   "metadata": {
    "execution": {
     "iopub.execute_input": "2022-03-28T11:56:31.806165Z",
     "iopub.status.busy": "2022-03-28T11:56:31.805388Z",
     "iopub.status.idle": "2022-03-28T11:56:32.008518Z",
     "shell.execute_reply": "2022-03-28T11:56:32.008094Z",
     "shell.execute_reply.started": "2022-03-28T11:34:19.292618Z"
    },
    "papermill": {
     "duration": 0.246902,
     "end_time": "2022-03-28T11:56:32.008645",
     "exception": false,
     "start_time": "2022-03-28T11:56:31.761743",
     "status": "completed"
    },
    "tags": []
   },
   "outputs": [
    {
     "data": {
      "text/plain": [
       "<matplotlib.image.AxesImage at 0x7f61a4335a10>"
      ]
     },
     "execution_count": 5,
     "metadata": {},
     "output_type": "execute_result"
    },
    {
     "data": {
      "image/png": "[encoded data removed]",
      "text/plain": [
       "<Figure size 432x288 with 1 Axes>"
      ]
     },
     "metadata": {
      "needs_background": "light"
     },
     "output_type": "display_data"
    }
   ],
   "source": [
    "# Display a sample digit from the dataset\n",
    "digit = train_images[12]\n",
    "plt.imshow(digit, cmap='binary')"
   ]
  },
  {
   "cell_type": "code",
   "execution_count": 6,
   "id": "61b9ac6c",
   "metadata": {
    "execution": {
     "iopub.execute_input": "2022-03-28T11:56:32.097585Z",
     "iopub.status.busy": "2022-03-28T11:56:32.096908Z",
     "iopub.status.idle": "2022-03-28T11:56:32.099883Z",
     "shell.execute_reply": "2022-03-28T11:56:32.100447Z",
     "shell.execute_reply.started": "2022-03-28T11:34:19.471840Z"
    },
    "papermill": {
     "duration": 0.049235,
     "end_time": "2022-03-28T11:56:32.100630",
     "exception": false,
     "start_time": "2022-03-28T11:56:32.051395",
     "status": "completed"
    },
    "tags": []
   },
   "outputs": [
    {
     "name": "stdout",
     "output_type": "stream",
     "text": [
      "Label for train_image[12] is =  3\n"
     ]
    }
   ],
   "source": [
    "# Check the label for that sample digit\n",
    "# print('Label for train_image[12] is = ', )\n",
    "print('Label for train_image[12] is = ', train_labels[12])"
   ]
  },
  {
   "cell_type": "code",
   "execution_count": 7,
   "id": "ec469a68",
   "metadata": {
    "execution": {
     "iopub.execute_input": "2022-03-28T11:56:32.193016Z",
     "iopub.status.busy": "2022-03-28T11:56:32.189323Z",
     "iopub.status.idle": "2022-03-28T11:56:32.195898Z",
     "shell.execute_reply": "2022-03-28T11:56:32.196466Z",
     "shell.execute_reply.started": "2022-03-28T11:34:19.478404Z"
    },
    "papermill": {
     "duration": 0.052651,
     "end_time": "2022-03-28T11:56:32.196644",
     "exception": false,
     "start_time": "2022-03-28T11:56:32.143993",
     "status": "completed"
    },
    "tags": []
   },
   "outputs": [
    {
     "name": "stdout",
     "output_type": "stream",
     "text": [
      "[[  0   0   0   0   0   0   0   0   0   0   0   0   0   0   0   0   0   0\n",
      "    0   0   0   0   0   0   0   0   0   0]\n",
      " [  0   0   0   0   0   0   0   0   0   0   0   0   0   0   0   0   0   0\n",
      "    0   0   0   0   0   0   0   0   0   0]\n",
      " [  0   0   0   0   0   0   0   0   0   0   0   0   0   0   0   0   0   0\n",
      "    0   0   0   0   0   0   0   0   0   0]\n",
      " [  0   0   0   0   0   0   0   0   0   0   0   0   0   0   0   0   0   0\n",
      "    0   0   0   0   0   0   0   0   0   0]\n",
      " [  0   0   0   0   0   0   0   0   0   0   0   0   0   0   0   0   0   0\n",
      "    0   0   0   0   0   0   0   0   0   0]\n",
      " [  0   0   0  12  99  91 142 155 246 182 155 155 155 155 131  52   0   0\n",
      "    0   0   0   0   0   0   0   0   0   0]\n",
      " [  0   0   0 138 254 254 254 254 254 254 254 254 254 254 254 252 210 122\n",
      "   33   0   0   0   0   0   0   0   0   0]\n",
      " [  0   0   0 220 254 254 254 235 189 189 189 189 150 189 205 254 254 254\n",
      "   75   0   0   0   0   0   0   0   0   0]\n",
      " [  0   0   0  35  74  35  35  25   0   0   0   0   0   0  13 224 254 254\n",
      "  153   0   0   0   0   0   0   0   0   0]\n",
      " [  0   0   0   0   0   0   0   0   0   0   0   0   0   0  90 254 254 247\n",
      "   53   0   0   0   0   0   0   0   0   0]\n",
      " [  0   0   0   0   0   0   0   0   0   0   0   0   6 152 246 254 254  49\n",
      "    0   0   0   0   0   0   0   0   0   0]\n",
      " [  0   0   0   0   0   0   0   0   0   0   0  66 158 254 254 249 103   8\n",
      "    0   0   0   0   0   0   0   0   0   0]\n",
      " [  0   0   0   0   0   0   0   0   0   0  54 251 254 254 254 248  74   5\n",
      "    0   0   0   0   0   0   0   0   0   0]\n",
      " [  0   0   0   0   0   0   0   0   0   0 140 254 254 254 254 254 254 202\n",
      "  125  45   0   0   0   0   0   0   0   0]\n",
      " [  0   0   0   0   0   0   0   0   0   0  58 181 234 254 254 254 254 254\n",
      "  254 252 140  22   0   0   0   0   0   0]\n",
      " [  0   0   0   0   0   0   0   0   0   0   0   0  30  50  73 155 253 254\n",
      "  254 254 254 191   2   0   0   0   0   0]\n",
      " [  0   0   0   0   0   0   0   0   0   0   0   0   0   0   0   0  91 200\n",
      "  254 254 254 254 118   0   0   0   0   0]\n",
      " [  0   0   0   0   0   0   0   0   0   0   0   0   0   0   0   0   0   4\n",
      "  192 254 254 254 154   0   0   0   0   0]\n",
      " [  0   0   0   0   0   0   0   0   0   0   0   0   0   0   0   0   0   0\n",
      "  141 254 254 254 116   0   0   0   0   0]\n",
      " [  0   0   0   0   0   0   0   0  25 126  86   0   0   0   0   0   0   3\n",
      "  188 254 254 250  61   0   0   0   0   0]\n",
      " [  0   0   0   0   0   0   0  24 209 254  15   0   0   0   0   0  23 137\n",
      "  254 254 254 209   0   0   0   0   0   0]\n",
      " [  0   0   0   0   0   0   0 168 254 254  48   9   0   0   9 127 241 254\n",
      "  254 255 242  63   0   0   0   0   0   0]\n",
      " [  0   0   0   0   0   0   0 101 254 254 254 205 190 190 205 254 254 254\n",
      "  254 242  67   0   0   0   0   0   0   0]\n",
      " [  0   0   0   0   0   0   0  33 166 254 254 254 254 254 254 254 254 250\n",
      "  138  55   0   0   0   0   0   0   0   0]\n",
      " [  0   0   0   0   0   0   0   0   7  88 154 116 194 194 154 154  88  49\n",
      "    0   0   0   0   0   0   0   0   0   0]\n",
      " [  0   0   0   0   0   0   0   0   0   0   0   0   0   0   0   0   0   0\n",
      "    0   0   0   0   0   0   0   0   0   0]\n",
      " [  0   0   0   0   0   0   0   0   0   0   0   0   0   0   0   0   0   0\n",
      "    0   0   0   0   0   0   0   0   0   0]\n",
      " [  0   0   0   0   0   0   0   0   0   0   0   0   0   0   0   0   0   0\n",
      "    0   0   0   0   0   0   0   0   0   0]]\n",
      "(28, 28)\n"
     ]
    }
   ],
   "source": [
    "# Print that sample digit and its shape to see the gray levels (or pixels)\n",
    "print(digit)\n",
    "print(digit.shape)"
   ]
  },
  {
   "cell_type": "code",
   "execution_count": 8,
   "id": "3038c3c2",
   "metadata": {
    "execution": {
     "iopub.execute_input": "2022-03-28T11:56:32.291222Z",
     "iopub.status.busy": "2022-03-28T11:56:32.290473Z",
     "iopub.status.idle": "2022-03-28T11:56:32.293743Z",
     "shell.execute_reply": "2022-03-28T11:56:32.294170Z",
     "shell.execute_reply.started": "2022-03-28T11:34:19.490328Z"
    },
    "papermill": {
     "duration": 0.053838,
     "end_time": "2022-03-28T11:56:32.294300",
     "exception": false,
     "start_time": "2022-03-28T11:56:32.240462",
     "status": "completed"
    },
    "tags": []
   },
   "outputs": [
    {
     "name": "stdout",
     "output_type": "stream",
     "text": [
      "60000\n",
      "(60000, 28, 28)\n",
      "No. of samples =  60000\n",
      "Height of the image =  28\n",
      "Width of the image =  28\n",
      "int64\n"
     ]
    }
   ],
   "source": [
    "# Print the length of the train_images, the number of samples, height and width\n",
    "print(len(train_images))\n",
    "print(train_images.shape)\n",
    "print(\"No. of samples = \", train_images.shape[0])\n",
    "print(\"Height of the image = \", train_images.shape[1])\n",
    "print(\"Width of the image = \", train_images.shape[2])\n",
    "print(train_images[0].astype('int').dtype)"
   ]
  },
  {
   "cell_type": "markdown",
   "id": "250889c9",
   "metadata": {
    "papermill": {
     "duration": 0.04345,
     "end_time": "2022-03-28T11:56:32.381212",
     "exception": false,
     "start_time": "2022-03-28T11:56:32.337762",
     "status": "completed"
    },
    "tags": []
   },
   "source": [
    "### <font color=deeppink>Dataset preparation </font>"
   ]
  },
  {
   "cell_type": "code",
   "execution_count": 9,
   "id": "a9a6a4b0",
   "metadata": {
    "execution": {
     "iopub.execute_input": "2022-03-28T11:56:32.475399Z",
     "iopub.status.busy": "2022-03-28T11:56:32.474468Z",
     "iopub.status.idle": "2022-03-28T11:56:32.591857Z",
     "shell.execute_reply": "2022-03-28T11:56:32.591326Z",
     "shell.execute_reply.started": "2022-03-28T11:34:19.501369Z"
    },
    "papermill": {
     "duration": 0.167539,
     "end_time": "2022-03-28T11:56:32.591995",
     "exception": false,
     "start_time": "2022-03-28T11:56:32.424456",
     "status": "completed"
    },
    "tags": []
   },
   "outputs": [
    {
     "name": "stdout",
     "output_type": "stream",
     "text": [
      "(60000, 784)\n",
      "float64\n"
     ]
    }
   ],
   "source": [
    "# Prepare the dataset for the neural network, we need a 1-D tensor with normalized values between 0 to 1\n",
    "train_images2 = train_images.reshape(60000, 28 * 28)\n",
    "train_images2 = train_images2 / 255 # or train_images.astype('float32') / 255\n",
    "print(train_images2.shape)\n",
    "# print(train_images2[12])\n",
    "print(train_images2.dtype)"
   ]
  },
  {
   "cell_type": "code",
   "execution_count": 10,
   "id": "afb7ab42",
   "metadata": {
    "execution": {
     "iopub.execute_input": "2022-03-28T11:56:32.684249Z",
     "iopub.status.busy": "2022-03-28T11:56:32.683312Z",
     "iopub.status.idle": "2022-03-28T11:56:32.706407Z",
     "shell.execute_reply": "2022-03-28T11:56:32.706856Z",
     "shell.execute_reply.started": "2022-03-28T11:34:19.623328Z"
    },
    "papermill": {
     "duration": 0.07108,
     "end_time": "2022-03-28T11:56:32.707007",
     "exception": false,
     "start_time": "2022-03-28T11:56:32.635927",
     "status": "completed"
    },
    "tags": []
   },
   "outputs": [
    {
     "name": "stdout",
     "output_type": "stream",
     "text": [
      "(10000, 784)\n",
      "float64\n"
     ]
    }
   ],
   "source": [
    "# Repeat the same for the test dataset\n",
    "test_images2 = test_images.reshape(10000, 28 * 28)\n",
    "test_images2 = test_images2 / 255\n",
    "print(test_images2.shape)\n",
    "print(test_images2.dtype)\n",
    "# print(test_images2[12])"
   ]
  },
  {
   "cell_type": "markdown",
   "id": "70bc2d0b",
   "metadata": {
    "papermill": {
     "duration": 0.043277,
     "end_time": "2022-03-28T11:56:32.794681",
     "exception": false,
     "start_time": "2022-03-28T11:56:32.751404",
     "status": "completed"
    },
    "tags": []
   },
   "source": [
    "### <font color=deeppink> Building the model </font>"
   ]
  },
  {
   "cell_type": "code",
   "execution_count": 11,
   "id": "767766fe",
   "metadata": {
    "execution": {
     "iopub.execute_input": "2022-03-28T11:56:32.886044Z",
     "iopub.status.busy": "2022-03-28T11:56:32.885243Z",
     "iopub.status.idle": "2022-03-28T11:56:35.264899Z",
     "shell.execute_reply": "2022-03-28T11:56:35.265295Z",
     "shell.execute_reply.started": "2022-03-28T11:34:19.651814Z"
    },
    "papermill": {
     "duration": 2.42722,
     "end_time": "2022-03-28T11:56:35.265459",
     "exception": false,
     "start_time": "2022-03-28T11:56:32.838239",
     "status": "completed"
    },
    "tags": []
   },
   "outputs": [
    {
     "name": "stderr",
     "output_type": "stream",
     "text": [
      "2022-03-28 11:56:32.960913: I tensorflow/stream_executor/cuda/cuda_gpu_executor.cc:937] successful NUMA node read from SysFS had negative value (-1), but there must be at least one NUMA node, so returning NUMA node zero\n"
     ]
    },
    {
     "name": "stdout",
     "output_type": "stream",
     "text": [
      "Model: \"sequential\"\n",
      "_________________________________________________________________\n",
      "Layer (type)                 Output Shape              Param #   \n",
      "=================================================================\n",
      "Dense_layer_1 (Dense)        (None, 512)               401920    \n",
      "_________________________________________________________________\n",
      "Dense_layer_2 (Dense)        (None, 10)                5130      \n",
      "=================================================================\n",
      "Total params: 407,050\n",
      "Trainable params: 407,050\n",
      "Non-trainable params: 0\n",
      "_________________________________________________________________\n",
      "None\n"
     ]
    },
    {
     "name": "stderr",
     "output_type": "stream",
     "text": [
      "2022-03-28 11:56:33.067773: I tensorflow/stream_executor/cuda/cuda_gpu_executor.cc:937] successful NUMA node read from SysFS had negative value (-1), but there must be at least one NUMA node, so returning NUMA node zero\n",
      "2022-03-28 11:56:33.068452: I tensorflow/stream_executor/cuda/cuda_gpu_executor.cc:937] successful NUMA node read from SysFS had negative value (-1), but there must be at least one NUMA node, so returning NUMA node zero\n",
      "2022-03-28 11:56:33.069573: I tensorflow/core/platform/cpu_feature_guard.cc:142] This TensorFlow binary is optimized with oneAPI Deep Neural Network Library (oneDNN) to use the following CPU instructions in performance-critical operations:  AVX2 AVX512F FMA\n",
      "To enable them in other operations, rebuild TensorFlow with the appropriate compiler flags.\n",
      "2022-03-28 11:56:33.070646: I tensorflow/stream_executor/cuda/cuda_gpu_executor.cc:937] successful NUMA node read from SysFS had negative value (-1), but there must be at least one NUMA node, so returning NUMA node zero\n",
      "2022-03-28 11:56:33.071271: I tensorflow/stream_executor/cuda/cuda_gpu_executor.cc:937] successful NUMA node read from SysFS had negative value (-1), but there must be at least one NUMA node, so returning NUMA node zero\n",
      "2022-03-28 11:56:33.071878: I tensorflow/stream_executor/cuda/cuda_gpu_executor.cc:937] successful NUMA node read from SysFS had negative value (-1), but there must be at least one NUMA node, so returning NUMA node zero\n",
      "2022-03-28 11:56:34.914361: I tensorflow/stream_executor/cuda/cuda_gpu_executor.cc:937] successful NUMA node read from SysFS had negative value (-1), but there must be at least one NUMA node, so returning NUMA node zero\n",
      "2022-03-28 11:56:34.915157: I tensorflow/stream_executor/cuda/cuda_gpu_executor.cc:937] successful NUMA node read from SysFS had negative value (-1), but there must be at least one NUMA node, so returning NUMA node zero\n",
      "2022-03-28 11:56:34.915842: I tensorflow/stream_executor/cuda/cuda_gpu_executor.cc:937] successful NUMA node read from SysFS had negative value (-1), but there must be at least one NUMA node, so returning NUMA node zero\n",
      "2022-03-28 11:56:34.916417: I tensorflow/core/common_runtime/gpu/gpu_device.cc:1510] Created device /job:localhost/replica:0/task:0/device:GPU:0 with 15403 MB memory:  -> device: 0, name: Tesla P100-PCIE-16GB, pci bus id: 0000:00:04.0, compute capability: 6.0\n"
     ]
    }
   ],
   "source": [
    "# We need a Sequential model with 2 Dense layers, one with 512 neurons and the other with 784 neurons (num_classes)\n",
    "from tensorflow.keras.models import Sequential\n",
    "from tensorflow.keras import layers\n",
    "model = Sequential([\n",
    "layers.Dense(512, activation='relu', name='Dense_layer_1', input_shape=(784, )),\n",
    "layers.Dense(10, activation='softmax', name='Dense_layer_2')\n",
    "])\n",
    "print(model.summary())"
   ]
  },
  {
   "cell_type": "code",
   "execution_count": 12,
   "id": "28380683",
   "metadata": {
    "execution": {
     "iopub.execute_input": "2022-03-28T11:56:35.361740Z",
     "iopub.status.busy": "2022-03-28T11:56:35.360774Z",
     "iopub.status.idle": "2022-03-28T11:56:36.155225Z",
     "shell.execute_reply": "2022-03-28T11:56:36.155685Z",
     "shell.execute_reply.started": "2022-03-28T11:34:28.667880Z"
    },
    "papermill": {
     "duration": 0.844438,
     "end_time": "2022-03-28T11:56:36.155858",
     "exception": false,
     "start_time": "2022-03-28T11:56:35.311420",
     "status": "completed"
    },
    "tags": []
   },
   "outputs": [
    {
     "data": {
      "image/png": "[encoded data removed]",
      "text/plain": [
       "<IPython.core.display.Image object>"
      ]
     },
     "execution_count": 12,
     "metadata": {},
     "output_type": "execute_result"
    }
   ],
   "source": [
    "tf.keras.utils.plot_model(model, show_shapes=True, show_layer_names=True)\n",
    "\n",
    "# Can you see the shapes?"
   ]
  },
  {
   "cell_type": "code",
   "execution_count": 13,
   "id": "d322a1ca",
   "metadata": {
    "execution": {
     "iopub.execute_input": "2022-03-28T11:56:36.255416Z",
     "iopub.status.busy": "2022-03-28T11:56:36.254705Z",
     "iopub.status.idle": "2022-03-28T11:56:36.306621Z",
     "shell.execute_reply": "2022-03-28T11:56:36.307305Z",
     "shell.execute_reply.started": "2022-03-28T11:34:30.357754Z"
    },
    "papermill": {
     "duration": 0.105576,
     "end_time": "2022-03-28T11:56:36.307444",
     "exception": false,
     "start_time": "2022-03-28T11:56:36.201868",
     "status": "completed"
    },
    "tags": []
   },
   "outputs": [],
   "source": [
    "tf.keras.utils.plot_model?"
   ]
  },
  {
   "cell_type": "markdown",
   "id": "4dc3676f",
   "metadata": {
    "papermill": {
     "duration": 0.050481,
     "end_time": "2022-03-28T11:56:36.408536",
     "exception": false,
     "start_time": "2022-03-28T11:56:36.358055",
     "status": "completed"
    },
    "tags": []
   },
   "source": [
    "### <font color=deeppink> Compiling the model </font>"
   ]
  },
  {
   "cell_type": "code",
   "execution_count": 14,
   "id": "5357c2d4",
   "metadata": {
    "execution": {
     "iopub.execute_input": "2022-03-28T11:56:36.518598Z",
     "iopub.status.busy": "2022-03-28T11:56:36.517751Z",
     "iopub.status.idle": "2022-03-28T11:56:36.524060Z",
     "shell.execute_reply": "2022-03-28T11:56:36.523606Z",
     "shell.execute_reply.started": "2022-03-28T11:34:36.950275Z"
    },
    "papermill": {
     "duration": 0.064338,
     "end_time": "2022-03-28T11:56:36.524187",
     "exception": false,
     "start_time": "2022-03-28T11:56:36.459849",
     "status": "completed"
    },
    "tags": []
   },
   "outputs": [],
   "source": [
    "model.compile(optimizer='rmsprop',\n",
    "loss='sparse_categorical_crossentropy',\n",
    "metrics=['accuracy'])"
   ]
  },
  {
   "cell_type": "markdown",
   "id": "0a667205",
   "metadata": {
    "papermill": {
     "duration": 0.045769,
     "end_time": "2022-03-28T11:56:36.615791",
     "exception": false,
     "start_time": "2022-03-28T11:56:36.570022",
     "status": "completed"
    },
    "tags": []
   },
   "source": [
    "### <font color=deeppink> Training the model </font>"
   ]
  },
  {
   "cell_type": "code",
   "execution_count": 15,
   "id": "4a01bc18",
   "metadata": {
    "execution": {
     "iopub.execute_input": "2022-03-28T11:56:36.711048Z",
     "iopub.status.busy": "2022-03-28T11:56:36.710197Z",
     "iopub.status.idle": "2022-03-28T11:56:47.936262Z",
     "shell.execute_reply": "2022-03-28T11:56:47.935835Z",
     "shell.execute_reply.started": "2022-03-28T11:34:39.956991Z"
    },
    "papermill": {
     "duration": 11.274904,
     "end_time": "2022-03-28T11:56:47.936382",
     "exception": false,
     "start_time": "2022-03-28T11:56:36.661478",
     "status": "completed"
    },
    "scrolled": true,
    "tags": []
   },
   "outputs": [
    {
     "name": "stderr",
     "output_type": "stream",
     "text": [
      "2022-03-28 11:56:37.171838: I tensorflow/compiler/mlir/mlir_graph_optimization_pass.cc:185] None of the MLIR Optimization Passes are enabled (registered 2)\n"
     ]
    },
    {
     "name": "stdout",
     "output_type": "stream",
     "text": [
      "Epoch 1/5\n",
      "469/469 [==============================] - 2s 2ms/step - loss: 0.2574 - accuracy: 0.9255\n",
      "Epoch 2/5\n",
      "469/469 [==============================] - 1s 2ms/step - loss: 0.1025 - accuracy: 0.9700\n",
      "Epoch 3/5\n",
      "469/469 [==============================] - 1s 2ms/step - loss: 0.0690 - accuracy: 0.9791\n",
      "Epoch 4/5\n",
      "469/469 [==============================] - 1s 2ms/step - loss: 0.0499 - accuracy: 0.9850\n",
      "Epoch 5/5\n",
      "469/469 [==============================] - 1s 2ms/step - loss: 0.0371 - accuracy: 0.9888\n"
     ]
    },
    {
     "data": {
      "text/plain": [
       "<keras.callbacks.History at 0x7f6184502cd0>"
      ]
     },
     "execution_count": 15,
     "metadata": {},
     "output_type": "execute_result"
    }
   ],
   "source": [
    "# Finally train the model on the train_images and train_labels\n",
    "model.fit(train_images2, train_labels, epochs=5, batch_size=128)"
   ]
  },
  {
   "cell_type": "code",
   "execution_count": 16,
   "id": "1b4eb1a2",
   "metadata": {
    "execution": {
     "iopub.execute_input": "2022-03-28T11:56:48.102583Z",
     "iopub.status.busy": "2022-03-28T11:56:48.102045Z",
     "iopub.status.idle": "2022-03-28T11:56:48.105132Z",
     "shell.execute_reply": "2022-03-28T11:56:48.105724Z",
     "shell.execute_reply.started": "2022-03-28T11:34:51.061316Z"
    },
    "papermill": {
     "duration": 0.090535,
     "end_time": "2022-03-28T11:56:48.105854",
     "exception": false,
     "start_time": "2022-03-28T11:56:48.015319",
     "status": "completed"
    },
    "tags": []
   },
   "outputs": [],
   "source": [
    "model.fit?\n"
   ]
  },
  {
   "cell_type": "markdown",
   "id": "62746e0f",
   "metadata": {
    "papermill": {
     "duration": 0.077747,
     "end_time": "2022-03-28T11:56:48.261834",
     "exception": false,
     "start_time": "2022-03-28T11:56:48.184087",
     "status": "completed"
    },
    "tags": []
   },
   "source": [
    "### <font color=deeppink> Testing the model </font>"
   ]
  },
  {
   "cell_type": "code",
   "execution_count": 17,
   "id": "2ef75932",
   "metadata": {
    "execution": {
     "iopub.execute_input": "2022-03-28T11:56:48.501830Z",
     "iopub.status.busy": "2022-03-28T11:56:48.500122Z",
     "iopub.status.idle": "2022-03-28T11:56:49.350859Z",
     "shell.execute_reply": "2022-03-28T11:56:49.351309Z",
     "shell.execute_reply.started": "2022-03-28T11:34:51.071969Z"
    },
    "papermill": {
     "duration": 1.002207,
     "end_time": "2022-03-28T11:56:49.351450",
     "exception": false,
     "start_time": "2022-03-28T11:56:48.349243",
     "status": "completed"
    },
    "tags": []
   },
   "outputs": [
    {
     "name": "stdout",
     "output_type": "stream",
     "text": [
      "313/313 [==============================] - 1s 2ms/step - loss: 0.0660 - accuracy: 0.9810\n",
      "Accuracy = 0.9810000061988831 \n",
      "Loss = 0.06602083891630173\n"
     ]
    }
   ],
   "source": [
    "(loss_result, acc_result) = model.evaluate(test_images2, test_labels)\n",
    "print(\"Accuracy = {}\".format(acc_result),\n",
    "\"\\nLoss = {}\".format(loss_result))"
   ]
  },
  {
   "cell_type": "code",
   "execution_count": 18,
   "id": "4d7feb7d",
   "metadata": {
    "execution": {
     "iopub.execute_input": "2022-03-28T11:56:49.525108Z",
     "iopub.status.busy": "2022-03-28T11:56:49.524356Z",
     "iopub.status.idle": "2022-03-28T11:56:49.629562Z",
     "shell.execute_reply": "2022-03-28T11:56:49.630131Z",
     "shell.execute_reply.started": "2022-03-28T11:34:51.841189Z"
    },
    "papermill": {
     "duration": 0.194789,
     "end_time": "2022-03-28T11:56:49.630315",
     "exception": false,
     "start_time": "2022-03-28T11:56:49.435526",
     "status": "completed"
    },
    "tags": []
   },
   "outputs": [
    {
     "name": "stdout",
     "output_type": "stream",
     "text": [
      "Predicted probablities =  [[5.5949240e-10 2.3649221e-10 8.3853152e-08 2.0809961e-05 3.4099685e-05\n",
      "  5.3384397e-06 1.2726692e-10 2.0920977e-05 6.4487870e-07 9.9991810e-01]]\n",
      "Y_pred = 9 \t Y_true =9\n"
     ]
    }
   ],
   "source": [
    "# Let us predict and see\n",
    "y_pred = model.predict(np.expand_dims(test_images2[12], axis=0))\n",
    "\n",
    "def max_ypred(y_pred):\n",
    "    max_ypred2 = np.max(y_pred)\n",
    "    for i,n in enumerate(y_pred[0]):\n",
    "        if n == max_ypred2:\n",
    "            return i\n",
    "print(\"Predicted probablities = \",y_pred)\n",
    "print(\"Y_pred = {} \\t Y_true ={}\".format(max_ypred(y_pred), test_labels[12]))\n"
   ]
  },
  {
   "cell_type": "code",
   "execution_count": 19,
   "id": "a16e82b9",
   "metadata": {
    "execution": {
     "iopub.execute_input": "2022-03-28T11:56:49.808931Z",
     "iopub.status.busy": "2022-03-28T11:56:49.808101Z",
     "iopub.status.idle": "2022-03-28T11:56:49.979218Z",
     "shell.execute_reply": "2022-03-28T11:56:49.979866Z",
     "shell.execute_reply.started": "2022-03-28T11:34:51.957663Z"
    },
    "papermill": {
     "duration": 0.266113,
     "end_time": "2022-03-28T11:56:49.980024",
     "exception": false,
     "start_time": "2022-03-28T11:56:49.713911",
     "status": "completed"
    },
    "tags": []
   },
   "outputs": [
    {
     "data": {
      "text/plain": [
       "<matplotlib.image.AxesImage at 0x7f61801db990>"
      ]
     },
     "execution_count": 19,
     "metadata": {},
     "output_type": "execute_result"
    },
    {
     "data": {
      "image/png": "[encoded data removed]",
      "text/plain": [
       "<Figure size 432x288 with 1 Axes>"
      ]
     },
     "metadata": {
      "needs_background": "light"
     },
     "output_type": "display_data"
    }
   ],
   "source": [
    "plt.imshow(test_images[12].reshape(28, 28), cmap='binary')"
   ]
  },
  {
   "cell_type": "markdown",
   "id": "e93b5eb8",
   "metadata": {
    "papermill": {
     "duration": 0.08618,
     "end_time": "2022-03-28T11:56:50.150221",
     "exception": false,
     "start_time": "2022-03-28T11:56:50.064041",
     "status": "completed"
    },
    "tags": []
   },
   "source": [
    "### <font color=deeppink> Validating the model on the test dataset </font>"
   ]
  },
  {
   "cell_type": "code",
   "execution_count": 20,
   "id": "9ba212c2",
   "metadata": {
    "execution": {
     "iopub.execute_input": "2022-03-28T11:56:50.328701Z",
     "iopub.status.busy": "2022-03-28T11:56:50.327875Z",
     "iopub.status.idle": "2022-03-28T11:56:50.335020Z",
     "shell.execute_reply": "2022-03-28T11:56:50.335381Z",
     "shell.execute_reply.started": "2022-03-28T11:34:57.816909Z"
    },
    "papermill": {
     "duration": 0.099932,
     "end_time": "2022-03-28T11:56:50.335543",
     "exception": false,
     "start_time": "2022-03-28T11:56:50.235611",
     "status": "completed"
    },
    "tags": []
   },
   "outputs": [],
   "source": [
    "# Rebuild the model to avoid overfitting it, since we want to retrain the model\n",
    "model = tf.keras.models.Sequential([\n",
    "tf.keras.layers.Dense(512, activation='relu', name='Dense1'),\n",
    "tf.keras.layers.Dense(10, activation='softmax', name='Dense2')\n",
    "])\n",
    "# Recompile the model\n",
    "model.compile(optimizer='rmsprop',\n",
    "loss='sparse_categorical_crossentropy',\n",
    "metrics=['accuracy'])"
   ]
  },
  {
   "cell_type": "code",
   "execution_count": 21,
   "id": "70ba7574",
   "metadata": {
    "execution": {
     "iopub.execute_input": "2022-03-28T11:56:50.510203Z",
     "iopub.status.busy": "2022-03-28T11:56:50.509253Z",
     "iopub.status.idle": "2022-03-28T11:57:11.704056Z",
     "shell.execute_reply": "2022-03-28T11:57:11.704751Z",
     "shell.execute_reply.started": "2022-03-28T11:34:58.293352Z"
    },
    "papermill": {
     "duration": 21.284671,
     "end_time": "2022-03-28T11:57:11.704912",
     "exception": false,
     "start_time": "2022-03-28T11:56:50.420241",
     "status": "completed"
    },
    "tags": []
   },
   "outputs": [
    {
     "name": "stdout",
     "output_type": "stream",
     "text": [
      "Epoch 1/10\n",
      "469/469 [==============================] - 2s 3ms/step - loss: 0.2549 - accuracy: 0.9260 - val_loss: 0.1301 - val_accuracy: 0.9614\n",
      "Epoch 2/10\n",
      "469/469 [==============================] - 1s 2ms/step - loss: 0.1039 - accuracy: 0.9693 - val_loss: 0.0907 - val_accuracy: 0.9722\n",
      "Epoch 3/10\n",
      "469/469 [==============================] - 1s 3ms/step - loss: 0.0680 - accuracy: 0.9800 - val_loss: 0.0772 - val_accuracy: 0.9762\n",
      "Epoch 4/10\n",
      "469/469 [==============================] - 1s 2ms/step - loss: 0.0491 - accuracy: 0.9848 - val_loss: 0.0751 - val_accuracy: 0.9765\n",
      "Epoch 5/10\n",
      "469/469 [==============================] - 1s 2ms/step - loss: 0.0375 - accuracy: 0.9889 - val_loss: 0.0662 - val_accuracy: 0.9792\n",
      "Epoch 6/10\n",
      "469/469 [==============================] - 2s 3ms/step - loss: 0.0280 - accuracy: 0.9916 - val_loss: 0.0713 - val_accuracy: 0.9795\n",
      "Epoch 7/10\n",
      "469/469 [==============================] - 1s 3ms/step - loss: 0.0212 - accuracy: 0.9935 - val_loss: 0.0684 - val_accuracy: 0.9801\n",
      "Epoch 8/10\n",
      "469/469 [==============================] - 1s 2ms/step - loss: 0.0164 - accuracy: 0.9953 - val_loss: 0.0641 - val_accuracy: 0.9817\n",
      "Epoch 9/10\n",
      "469/469 [==============================] - 1s 2ms/step - loss: 0.0130 - accuracy: 0.9959 - val_loss: 0.0678 - val_accuracy: 0.9812\n",
      "Epoch 10/10\n",
      "469/469 [==============================] - 1s 2ms/step - loss: 0.0100 - accuracy: 0.9973 - val_loss: 0.0689 - val_accuracy: 0.9827\n"
     ]
    },
    {
     "data": {
      "text/plain": [
       "<keras.callbacks.History at 0x7f618004dc10>"
      ]
     },
     "execution_count": 21,
     "metadata": {},
     "output_type": "execute_result"
    }
   ],
   "source": [
    "# Train the model this time with the validation data\n",
    "model.fit(train_images2, train_labels, epochs=10, batch_size=128, validation_data=(test_images2, test_labels))\n",
    "\n"
   ]
  },
  {
   "cell_type": "markdown",
   "id": "8339809c",
   "metadata": {
    "papermill": {
     "duration": 0.15332,
     "end_time": "2022-03-28T11:57:12.012804",
     "exception": false,
     "start_time": "2022-03-28T11:57:11.859484",
     "status": "completed"
    },
    "tags": []
   },
   "source": [
    "### <font color=deeppink> Plotting the training vs. validation accuracy </font>"
   ]
  },
  {
   "cell_type": "code",
   "execution_count": 22,
   "id": "cba1fe6e",
   "metadata": {
    "execution": {
     "iopub.execute_input": "2022-03-28T11:57:12.351976Z",
     "iopub.status.busy": "2022-03-28T11:57:12.342586Z",
     "iopub.status.idle": "2022-03-28T11:57:12.816123Z",
     "shell.execute_reply": "2022-03-28T11:57:12.815577Z",
     "shell.execute_reply.started": "2022-03-28T11:35:19.474591Z"
    },
    "papermill": {
     "duration": 0.648419,
     "end_time": "2022-03-28T11:57:12.816253",
     "exception": false,
     "start_time": "2022-03-28T11:57:12.167834",
     "status": "completed"
    },
    "tags": []
   },
   "outputs": [
    {
     "data": {
      "image/png": "[encoded data removed]",
      "text/plain": [
       "<Figure size 432x288 with 1 Axes>"
      ]
     },
     "metadata": {
      "needs_background": "light"
     },
     "output_type": "display_data"
    },
    {
     "data": {
      "image/png": "[encoded data removed]",
      "text/plain": [
       "<Figure size 432x288 with 1 Axes>"
      ]
     },
     "metadata": {
      "needs_background": "light"
     },
     "output_type": "display_data"
    }
   ],
   "source": [
    "history_dict = model.history.history\n",
    "loss = history_dict['loss']\n",
    "val_loss = history_dict['val_loss']\n",
    "acc = history_dict['accuracy']\n",
    "val_acc = history_dict['val_accuracy']\n",
    "\n",
    "epochs = range(1, len(loss) + 1)\n",
    "\n",
    "plt.plot(epochs, loss, 'b', label='Training Loss')\n",
    "plt.plot(epochs, val_loss, 'r', label='Validation Loss')\n",
    "plt.title('Training and Validation Loss')\n",
    "plt.xlabel('Epochs')\n",
    "plt.ylabel('Loss')\n",
    "plt.legend()\n",
    "plt.savefig('loss_plot.png')\n",
    "plt.show()\n",
    "\n",
    "plt.figure()\n",
    "\n",
    "plt.plot(epochs, acc, 'b', label='Training Accuracy')\n",
    "plt.plot(epochs, val_acc, 'r', label='Validation Accuracy')\n",
    "plt.title('Training and Validation Accuracy')\n",
    "plt.xlabel('Epochs')\n",
    "plt.ylabel('Accuracy')\n",
    "plt.legend()\n",
    "plt.savefig('acc_plot.png')\n",
    "plt.show()"
   ]
  },
  {
   "cell_type": "markdown",
   "id": "5e565afa",
   "metadata": {
    "papermill": {
     "duration": 0.157267,
     "end_time": "2022-03-28T11:57:13.130825",
     "exception": false,
     "start_time": "2022-03-28T11:57:12.973558",
     "status": "completed"
    },
    "tags": []
   },
   "source": [
    "### <font color=deeppink> Let us predict and see </font>"
   ]
  },
  {
   "cell_type": "code",
   "execution_count": 23,
   "id": "e6a6615c",
   "metadata": {
    "execution": {
     "iopub.execute_input": "2022-03-28T11:57:13.450713Z",
     "iopub.status.busy": "2022-03-28T11:57:13.449901Z",
     "iopub.status.idle": "2022-03-28T11:57:13.699192Z",
     "shell.execute_reply": "2022-03-28T11:57:13.699641Z",
     "shell.execute_reply.started": "2022-03-28T11:35:19.975072Z"
    },
    "papermill": {
     "duration": 0.413714,
     "end_time": "2022-03-28T11:57:13.699809",
     "exception": false,
     "start_time": "2022-03-28T11:57:13.286095",
     "status": "completed"
    },
    "tags": []
   },
   "outputs": [
    {
     "name": "stdout",
     "output_type": "stream",
     "text": [
      "Predicted probablities =  [[2.91599362e-12 1.62025637e-04 2.80670815e-06 1.03592074e-05\n",
      "  1.00421102e-10 3.19725323e-11 1.04982365e-14 9.99770701e-01\n",
      "  4.04527855e-05 1.36081571e-05]]\n",
      "Y_pred = 7 \t Y_true =7\n"
     ]
    },
    {
     "data": {
      "text/plain": [
       "<matplotlib.image.AxesImage at 0x7f621fbdce10>"
      ]
     },
     "execution_count": 23,
     "metadata": {},
     "output_type": "execute_result"
    },
    {
     "data": {
      "image/png": "[encoded data removed]",
      "text/plain": [
       "<Figure size 432x288 with 1 Axes>"
      ]
     },
     "metadata": {
      "needs_background": "light"
     },
     "output_type": "display_data"
    }
   ],
   "source": [
    "# Let us predict and see\n",
    "y_pred = model.predict(np.expand_dims(test_images2[111], axis=0))\n",
    "\n",
    "def max_ypred(y_pred):\n",
    "    max_ypred2 = np.max(y_pred)\n",
    "    for i,n in enumerate(y_pred[0]):\n",
    "        if n == max_ypred2:\n",
    "            return i\n",
    "print(\"Predicted probablities = \",y_pred)\n",
    "print(\"Y_pred = {} \\t Y_true ={}\".format(max_ypred(y_pred), test_labels[111]))\n",
    "\n",
    "plt.imshow(test_images2[111].reshape(28, 28), cmap='binary')"
   ]
  },
  {
   "cell_type": "markdown",
   "id": "2ed8bc55",
   "metadata": {
    "papermill": {
     "duration": 0.157465,
     "end_time": "2022-03-28T11:57:14.014150",
     "exception": false,
     "start_time": "2022-03-28T11:57:13.856685",
     "status": "completed"
    },
    "tags": []
   },
   "source": [
    "# <font color=darkblue> Experimenting with different optimizers and observe the results </font>\n",
    "\n",
    "1. Repeat the steps for building, compiling, training and testing the model.\n",
    "2. Replace the optimizer 'rmsprop' with 'sgd', 'adam', 'adagrad' and note the results.\n",
    "3. For SGD with momentum, use optimizer=tf.keras.optimizers.SGD(momentum=0.1) \n",
    "\n",
    "\n",
    "### <font color=deeppink> Building the model </font>"
   ]
  },
  {
   "cell_type": "code",
   "execution_count": 24,
   "id": "b8df5152",
   "metadata": {
    "execution": {
     "iopub.execute_input": "2022-03-28T11:57:14.339073Z",
     "iopub.status.busy": "2022-03-28T11:57:14.338153Z",
     "iopub.status.idle": "2022-03-28T11:57:14.370451Z",
     "shell.execute_reply": "2022-03-28T11:57:14.371608Z",
     "shell.execute_reply.started": "2022-03-28T11:36:42.345303Z"
    },
    "papermill": {
     "duration": 0.200056,
     "end_time": "2022-03-28T11:57:14.371850",
     "exception": false,
     "start_time": "2022-03-28T11:57:14.171794",
     "status": "completed"
    },
    "tags": []
   },
   "outputs": [
    {
     "name": "stdout",
     "output_type": "stream",
     "text": [
      "Model: \"sequential_1\"\n",
      "_________________________________________________________________\n",
      "Layer (type)                 Output Shape              Param #   \n",
      "=================================================================\n",
      "Dense1 (Dense)               (None, 512)               401920    \n",
      "_________________________________________________________________\n",
      "Dense2 (Dense)               (None, 10)                5130      \n",
      "=================================================================\n",
      "Total params: 407,050\n",
      "Trainable params: 407,050\n",
      "Non-trainable params: 0\n",
      "_________________________________________________________________\n",
      "None\n"
     ]
    }
   ],
   "source": [
    "# Build the model again \n",
    "from tensorflow.keras.models import Sequential\n",
    "from tensorflow.keras import layers\n",
    "model1 = Sequential([\n",
    "layers.Dense(512, activation='relu', name='Dense_layer_1', input_shape=(784, )),\n",
    "layers.Dense(10, activation='softmax', name='Dense_layer_2')\n",
    "])\n",
    "print(model.summary())\n",
    "\n"
   ]
  },
  {
   "cell_type": "markdown",
   "id": "f90d4306",
   "metadata": {
    "papermill": {
     "duration": 0.156596,
     "end_time": "2022-03-28T11:57:14.695675",
     "exception": false,
     "start_time": "2022-03-28T11:57:14.539079",
     "status": "completed"
    },
    "tags": []
   },
   "source": [
    "### <font color=deeppink> Compiling the model </font>"
   ]
  },
  {
   "cell_type": "code",
   "execution_count": 25,
   "id": "3991976e",
   "metadata": {
    "execution": {
     "iopub.execute_input": "2022-03-28T11:57:15.014116Z",
     "iopub.status.busy": "2022-03-28T11:57:15.013312Z",
     "iopub.status.idle": "2022-03-28T11:57:15.021327Z",
     "shell.execute_reply": "2022-03-28T11:57:15.020933Z",
     "shell.execute_reply.started": "2022-03-28T11:37:33.838132Z"
    },
    "papermill": {
     "duration": 0.169233,
     "end_time": "2022-03-28T11:57:15.021448",
     "exception": false,
     "start_time": "2022-03-28T11:57:14.852215",
     "status": "completed"
    },
    "tags": []
   },
   "outputs": [],
   "source": [
    "# Compile the model \n",
    "# Here we shall specify the optimizer, the loss function and the metrics the model needs to focus on\n",
    "model1.compile(optimizer='sgd',\n",
    "loss='sparse_categorical_crossentropy',\n",
    "metrics=['accuracy'])"
   ]
  },
  {
   "cell_type": "markdown",
   "id": "9f45a90f",
   "metadata": {
    "papermill": {
     "duration": 0.158742,
     "end_time": "2022-03-28T11:57:15.339109",
     "exception": false,
     "start_time": "2022-03-28T11:57:15.180367",
     "status": "completed"
    },
    "tags": []
   },
   "source": [
    "### <font color=deeppink> Training the model </font>"
   ]
  },
  {
   "cell_type": "code",
   "execution_count": 26,
   "id": "deceb3b9",
   "metadata": {
    "execution": {
     "iopub.execute_input": "2022-03-28T11:57:15.660588Z",
     "iopub.status.busy": "2022-03-28T11:57:15.659589Z",
     "iopub.status.idle": "2022-03-28T11:57:20.835420Z",
     "shell.execute_reply": "2022-03-28T11:57:20.835943Z",
     "shell.execute_reply.started": "2022-03-28T11:37:37.181474Z"
    },
    "papermill": {
     "duration": 5.338081,
     "end_time": "2022-03-28T11:57:20.836114",
     "exception": false,
     "start_time": "2022-03-28T11:57:15.498033",
     "status": "completed"
    },
    "scrolled": true,
    "tags": []
   },
   "outputs": [
    {
     "name": "stdout",
     "output_type": "stream",
     "text": [
      "Epoch 1/5\n",
      "469/469 [==============================] - 1s 2ms/step - loss: 1.0990 - accuracy: 0.7619\n",
      "Epoch 2/5\n",
      "469/469 [==============================] - 1s 2ms/step - loss: 0.5177 - accuracy: 0.8746\n",
      "Epoch 3/5\n",
      "469/469 [==============================] - 1s 2ms/step - loss: 0.4174 - accuracy: 0.8903\n",
      "Epoch 4/5\n",
      "469/469 [==============================] - 1s 2ms/step - loss: 0.3711 - accuracy: 0.8994\n",
      "Epoch 5/5\n",
      "469/469 [==============================] - 1s 2ms/step - loss: 0.3423 - accuracy: 0.9061\n"
     ]
    },
    {
     "data": {
      "text/plain": [
       "<keras.callbacks.History at 0x7f621fc79590>"
      ]
     },
     "execution_count": 26,
     "metadata": {},
     "output_type": "execute_result"
    }
   ],
   "source": [
    "# Finally train the model on the train_images and train_labels\n",
    "model1.fit(train_images2, train_labels, epochs=5, batch_size=128)"
   ]
  },
  {
   "cell_type": "markdown",
   "id": "f10f25a1",
   "metadata": {
    "papermill": {
     "duration": 0.184071,
     "end_time": "2022-03-28T11:57:21.206972",
     "exception": false,
     "start_time": "2022-03-28T11:57:21.022901",
     "status": "completed"
    },
    "tags": []
   },
   "source": [
    "### <font color=deeppink> Testing the model </font>"
   ]
  },
  {
   "cell_type": "code",
   "execution_count": 27,
   "id": "4b9a8594",
   "metadata": {
    "execution": {
     "iopub.execute_input": "2022-03-28T11:57:21.766552Z",
     "iopub.status.busy": "2022-03-28T11:57:21.765721Z",
     "iopub.status.idle": "2022-03-28T11:57:22.473130Z",
     "shell.execute_reply": "2022-03-28T11:57:22.473617Z",
     "shell.execute_reply.started": "2022-03-28T11:38:41.408267Z"
    },
    "papermill": {
     "duration": 1.039704,
     "end_time": "2022-03-28T11:57:22.473787",
     "exception": false,
     "start_time": "2022-03-28T11:57:21.434083",
     "status": "completed"
    },
    "tags": []
   },
   "outputs": [
    {
     "name": "stdout",
     "output_type": "stream",
     "text": [
      "313/313 [==============================] - 1s 2ms/step - loss: 0.3154 - accuracy: 0.9133\n",
      "Accuracy = 0.9132999777793884 \n",
      "Loss = 0.3154411315917969\n"
     ]
    }
   ],
   "source": [
    "(loss_result, acc_result) = model1.evaluate(test_images2, test_labels)\n",
    "print(\"Accuracy = {}\".format(acc_result),\n",
    "\"\\nLoss = {}\".format(loss_result))"
   ]
  },
  {
   "cell_type": "code",
   "execution_count": 28,
   "id": "48e13ec5",
   "metadata": {
    "execution": {
     "iopub.execute_input": "2022-03-28T11:57:22.860285Z",
     "iopub.status.busy": "2022-03-28T11:57:22.859478Z",
     "iopub.status.idle": "2022-03-28T11:57:22.933709Z",
     "shell.execute_reply": "2022-03-28T11:57:22.932964Z",
     "shell.execute_reply.started": "2022-03-28T11:38:55.228348Z"
    },
    "papermill": {
     "duration": 0.26956,
     "end_time": "2022-03-28T11:57:22.933834",
     "exception": false,
     "start_time": "2022-03-28T11:57:22.664274",
     "status": "completed"
    },
    "tags": []
   },
   "outputs": [
    {
     "name": "stdout",
     "output_type": "stream",
     "text": [
      "Predicted probablities =  [[1.8888959e-04 1.1434885e-05 2.2346362e-04 2.7804030e-04 6.2375881e-02\n",
      "  8.6971489e-04 2.0288659e-04 3.1705834e-02 3.1588466e-03 9.0098506e-01]]\n",
      "Y_pred = 9 \t Y_true =9\n"
     ]
    }
   ],
   "source": [
    "# Let us predict and see\n",
    "# Let us predict and see\n",
    "y_pred = model1.predict(np.expand_dims(test_images2[12], axis=0))\n",
    "\n",
    "def max_ypred(y_pred):\n",
    "    max_ypred2 = np.max(y_pred)\n",
    "    for i,n in enumerate(y_pred[0]):\n",
    "        if n == max_ypred2:\n",
    "            return i\n",
    "print(\"Predicted probablities = \",y_pred)\n",
    "print(\"Y_pred = {} \\t Y_true ={}\".format(max_ypred(y_pred), test_labels[12]))\n",
    "\n"
   ]
  },
  {
   "cell_type": "code",
   "execution_count": 29,
   "id": "1a249696",
   "metadata": {
    "execution": {
     "iopub.execute_input": "2022-03-28T11:57:23.320921Z",
     "iopub.status.busy": "2022-03-28T11:57:23.320199Z",
     "iopub.status.idle": "2022-03-28T11:57:29.356841Z",
     "shell.execute_reply": "2022-03-28T11:57:29.356214Z",
     "shell.execute_reply.started": "2022-03-28T11:42:53.814997Z"
    },
    "papermill": {
     "duration": 6.232745,
     "end_time": "2022-03-28T11:57:29.357001",
     "exception": false,
     "start_time": "2022-03-28T11:57:23.124256",
     "status": "completed"
    },
    "tags": []
   },
   "outputs": [
    {
     "name": "stdout",
     "output_type": "stream",
     "text": [
      "Model: \"sequential_3\"\n",
      "_________________________________________________________________\n",
      "Layer (type)                 Output Shape              Param #   \n",
      "=================================================================\n",
      "Dense_layer_1 (Dense)        (None, 512)               401920    \n",
      "_________________________________________________________________\n",
      "Dense_layer_2 (Dense)        (None, 10)                5130      \n",
      "=================================================================\n",
      "Total params: 407,050\n",
      "Trainable params: 407,050\n",
      "Non-trainable params: 0\n",
      "_________________________________________________________________\n",
      "None\n",
      "Epoch 1/5\n",
      "469/469 [==============================] - 1s 2ms/step - loss: 0.2602 - accuracy: 0.9264\n",
      "Epoch 2/5\n",
      "469/469 [==============================] - 1s 2ms/step - loss: 0.1075 - accuracy: 0.9692\n",
      "Epoch 3/5\n",
      "469/469 [==============================] - 1s 2ms/step - loss: 0.0703 - accuracy: 0.9793\n",
      "Epoch 4/5\n",
      "469/469 [==============================] - 1s 2ms/step - loss: 0.0493 - accuracy: 0.9856\n",
      "Epoch 5/5\n",
      "469/469 [==============================] - 1s 2ms/step - loss: 0.0376 - accuracy: 0.9888\n",
      "313/313 [==============================] - 1s 2ms/step - loss: 0.0708 - accuracy: 0.9783\n",
      "Accuracy = 0.9782999753952026 \n",
      "Loss = 0.07083077728748322\n"
     ]
    }
   ],
   "source": [
    "\n",
    "model2 = Sequential([\n",
    "layers.Dense(512, activation='relu', name='Dense_layer_1', input_shape=(784, )),\n",
    "layers.Dense(10, activation='softmax', name='Dense_layer_2')\n",
    "])\n",
    "print(model2.summary())\n",
    "\n",
    "model2.compile(optimizer='adam',\n",
    "loss='sparse_categorical_crossentropy',\n",
    "metrics=['accuracy'])\n",
    "\n",
    "\n",
    "model2.fit(train_images2, train_labels, epochs=5, batch_size=128)\n",
    "\n",
    "(loss_result, acc_result) = model2.evaluate(test_images2, test_labels)\n",
    "print(\"Accuracy = {}\".format(acc_result),\n",
    "\"\\nLoss = {}\".format(loss_result))"
   ]
  },
  {
   "cell_type": "code",
   "execution_count": 30,
   "id": "67f02cf6",
   "metadata": {
    "execution": {
     "iopub.execute_input": "2022-03-28T11:57:29.817762Z",
     "iopub.status.busy": "2022-03-28T11:57:29.816886Z",
     "iopub.status.idle": "2022-03-28T11:57:41.544349Z",
     "shell.execute_reply": "2022-03-28T11:57:41.544969Z",
     "shell.execute_reply.started": "2022-03-28T11:45:41.371483Z"
    },
    "papermill": {
     "duration": 11.96158,
     "end_time": "2022-03-28T11:57:41.545169",
     "exception": false,
     "start_time": "2022-03-28T11:57:29.583589",
     "status": "completed"
    },
    "tags": []
   },
   "outputs": [
    {
     "name": "stdout",
     "output_type": "stream",
     "text": [
      "Model: \"sequential_4\"\n",
      "_________________________________________________________________\n",
      "Layer (type)                 Output Shape              Param #   \n",
      "=================================================================\n",
      "Dense_layer_1 (Dense)        (None, 512)               401920    \n",
      "_________________________________________________________________\n",
      "Dense_layer_2 (Dense)        (None, 10)                5130      \n",
      "=================================================================\n",
      "Total params: 407,050\n",
      "Trainable params: 407,050\n",
      "Non-trainable params: 0\n",
      "_________________________________________________________________\n",
      "None\n",
      "Epoch 1/5\n",
      "469/469 [==============================] - 1s 3ms/step - loss: 1.0608 - accuracy: 0.7678\n",
      "Epoch 2/5\n",
      "469/469 [==============================] - 1s 2ms/step - loss: 0.4949 - accuracy: 0.8781\n",
      "Epoch 3/5\n",
      "469/469 [==============================] - 1s 2ms/step - loss: 0.4025 - accuracy: 0.8944\n",
      "Epoch 4/5\n",
      "469/469 [==============================] - 1s 2ms/step - loss: 0.3605 - accuracy: 0.9027\n",
      "Epoch 5/5\n",
      "469/469 [==============================] - 1s 2ms/step - loss: 0.3340 - accuracy: 0.9079\n",
      "313/313 [==============================] - 1s 2ms/step - loss: 0.3079 - accuracy: 0.9166\n",
      "Accuracy = 0.9165999889373779 \n",
      "Loss = 0.30785343050956726\n"
     ]
    }
   ],
   "source": [
    "\n",
    "model3 = Sequential([\n",
    "layers.Dense(512, activation='relu', name='Dense_layer_1', input_shape=(784, )),\n",
    "layers.Dense(10, activation='softmax', name='Dense_layer_2')\n",
    "])\n",
    "print(model3.summary())\n",
    "\n",
    "model3.compile(optimizer=tf.keras.optimizers.SGD(momentum=0.1),\n",
    "loss='sparse_categorical_crossentropy',\n",
    "metrics=['accuracy'])\n",
    "\n",
    "\n",
    "model3.fit(train_images2, train_labels, epochs=5, batch_size=128)\n",
    "\n",
    "(loss_result, acc_result) = model3.evaluate(test_images2, test_labels)\n",
    "print(\"Accuracy = {}\".format(acc_result),\n",
    "\"\\nLoss = {}\".format(loss_result))"
   ]
  },
  {
   "cell_type": "code",
   "execution_count": 31,
   "id": "71fd3b70",
   "metadata": {
    "execution": {
     "iopub.execute_input": "2022-03-28T11:57:42.080392Z",
     "iopub.status.busy": "2022-03-28T11:57:42.079868Z",
     "iopub.status.idle": "2022-03-28T11:57:48.528779Z",
     "shell.execute_reply": "2022-03-28T11:57:48.528308Z",
     "shell.execute_reply.started": "2022-03-28T11:47:11.656453Z"
    },
    "papermill": {
     "duration": 6.720283,
     "end_time": "2022-03-28T11:57:48.528910",
     "exception": false,
     "start_time": "2022-03-28T11:57:41.808627",
     "status": "completed"
    },
    "tags": []
   },
   "outputs": [
    {
     "name": "stdout",
     "output_type": "stream",
     "text": [
      "Model: \"sequential_5\"\n",
      "_________________________________________________________________\n",
      "Layer (type)                 Output Shape              Param #   \n",
      "=================================================================\n",
      "Dense_layer_1 (Dense)        (None, 512)               401920    \n",
      "_________________________________________________________________\n",
      "Dense_layer_2 (Dense)        (None, 10)                5130      \n",
      "=================================================================\n",
      "Total params: 407,050\n",
      "Trainable params: 407,050\n",
      "Non-trainable params: 0\n",
      "_________________________________________________________________\n",
      "None\n",
      "Epoch 1/5\n",
      "469/469 [==============================] - 1s 2ms/step - loss: 1.6680 - accuracy: 0.6107\n",
      "Epoch 2/5\n",
      "469/469 [==============================] - 1s 2ms/step - loss: 0.9986 - accuracy: 0.8141\n",
      "Epoch 3/5\n",
      "469/469 [==============================] - 1s 2ms/step - loss: 0.7493 - accuracy: 0.8471\n",
      "Epoch 4/5\n",
      "469/469 [==============================] - 1s 2ms/step - loss: 0.6286 - accuracy: 0.8626\n",
      "Epoch 5/5\n",
      "469/469 [==============================] - 1s 2ms/step - loss: 0.5578 - accuracy: 0.8719\n",
      "313/313 [==============================] - 1s 2ms/step - loss: 0.5083 - accuracy: 0.8849\n",
      "Accuracy = 0.8848999738693237 \n",
      "Loss = 0.5083308815956116\n"
     ]
    }
   ],
   "source": [
    "\n",
    "model4 = Sequential([\n",
    "layers.Dense(512, activation='relu', name='Dense_layer_1', input_shape=(784, )),\n",
    "layers.Dense(10, activation='softmax', name='Dense_layer_2')\n",
    "])\n",
    "print(model4.summary())\n",
    "\n",
    "model4.compile(optimizer='adagrad',\n",
    "loss='sparse_categorical_crossentropy',\n",
    "metrics=['accuracy'])\n",
    "\n",
    "\n",
    "model4.fit(train_images2, train_labels, epochs=5, batch_size=128)\n",
    "\n",
    "(loss_result, acc_result) = model4.evaluate(test_images2, test_labels)\n",
    "print(\"Accuracy = {}\".format(acc_result),\n",
    "\"\\nLoss = {}\".format(loss_result))"
   ]
  },
  {
   "cell_type": "markdown",
   "id": "940899f8",
   "metadata": {
    "papermill": {
     "duration": 0.296724,
     "end_time": "2022-03-28T11:57:49.129136",
     "exception": false,
     "start_time": "2022-03-28T11:57:48.832412",
     "status": "completed"
    },
    "tags": []
   },
   "source": [
    "# <font color=blue>Results</font>"
   ]
  },
  {
   "cell_type": "markdown",
   "id": "0d4f45cd",
   "metadata": {
    "papermill": {
     "duration": 0.297059,
     "end_time": "2022-03-28T11:57:49.723712",
     "exception": false,
     "start_time": "2022-03-28T11:57:49.426653",
     "status": "completed"
    },
    "tags": []
   },
   "source": [
    "\n",
    "$$\n",
    "\\begin{bmatrix}\n",
    "    \\hline\n",
    "    \\mathtt{optimizer} & \\mathtt{test~accuracy} & \\mathtt{test~loss} \\\\\n",
    "    \\hline \n",
    "    rmsprop & 0.9807 & 0.064 \\\\  \n",
    "    sgd & 0.9107 & 0.31 \\\\ \n",
    "    sgd~momentum & 0.9164 & 0.3065 \\\\\n",
    "    adam & 0.9789 & 0.06533 \\\\\n",
    "    adagrad & 0.8827 & 0.5103 \\\\ \n",
    "    \\hline\n",
    "\\end{bmatrix}\n",
    "$$\n",
    "\n"
   ]
  },
  {
   "cell_type": "markdown",
   "id": "06c0b3aa",
   "metadata": {
    "papermill": {
     "duration": 0.296304,
     "end_time": "2022-03-28T11:57:50.317759",
     "exception": false,
     "start_time": "2022-03-28T11:57:50.021455",
     "status": "completed"
    },
    "tags": []
   },
   "source": [
    "# <font color=darkgreen>Convolutional Neural Network</font>"
   ]
  },
  {
   "cell_type": "code",
   "execution_count": 32,
   "id": "5e31e5f6",
   "metadata": {
    "execution": {
     "iopub.execute_input": "2022-03-28T11:57:50.919181Z",
     "iopub.status.busy": "2022-03-28T11:57:50.918115Z",
     "iopub.status.idle": "2022-03-28T11:57:51.036389Z",
     "shell.execute_reply": "2022-03-28T11:57:51.037033Z",
     "shell.execute_reply.started": "2022-03-28T11:49:13.523988Z"
    },
    "papermill": {
     "duration": 0.420836,
     "end_time": "2022-03-28T11:57:51.037254",
     "exception": false,
     "start_time": "2022-03-28T11:57:50.616418",
     "status": "completed"
    },
    "tags": []
   },
   "outputs": [
    {
     "name": "stdout",
     "output_type": "stream",
     "text": [
      "(60000, 28, 28)\n",
      "(60000, 28, 28, 1)\n"
     ]
    }
   ],
   "source": [
    "# Build a CNN model for the dataset\n",
    "# We need to prepare the dataset differently now\n",
    "print(train_images.shape)\n",
    "# But we need to add an extra dimension for a grayscale image, depth = 1\n",
    "\n",
    "train_images3 = train_images.reshape(60000, 28, 28, 1)\n",
    "train_images3 = train_images3 / 255\n",
    "\n",
    "# Print the shape of the image and display it\n",
    "print(train_images3.shape)"
   ]
  },
  {
   "cell_type": "code",
   "execution_count": 33,
   "id": "3acdab48",
   "metadata": {
    "execution": {
     "iopub.execute_input": "2022-03-28T11:57:51.639924Z",
     "iopub.status.busy": "2022-03-28T11:57:51.638967Z",
     "iopub.status.idle": "2022-03-28T11:57:51.653499Z",
     "shell.execute_reply": "2022-03-28T11:57:51.652854Z",
     "shell.execute_reply.started": "2022-03-28T11:49:28.506960Z"
    },
    "papermill": {
     "duration": 0.318598,
     "end_time": "2022-03-28T11:57:51.653650",
     "exception": false,
     "start_time": "2022-03-28T11:57:51.335052",
     "status": "completed"
    },
    "tags": []
   },
   "outputs": [
    {
     "name": "stdout",
     "output_type": "stream",
     "text": [
      "(10000, 28, 28, 1)\n"
     ]
    }
   ],
   "source": [
    "# Repeat this for the test images\n",
    "test_images3 = test_images.reshape(10000, 28, 28, 1)\n",
    "test_images3 = test_images3 / 255\n",
    "# Print the shape of the image and display it\n",
    "print(test_images3.shape)"
   ]
  },
  {
   "cell_type": "code",
   "execution_count": 34,
   "id": "a1474298",
   "metadata": {
    "execution": {
     "iopub.execute_input": "2022-03-28T11:57:52.274102Z",
     "iopub.status.busy": "2022-03-28T11:57:52.262093Z",
     "iopub.status.idle": "2022-03-28T11:57:52.326098Z",
     "shell.execute_reply": "2022-03-28T11:57:52.326756Z",
     "shell.execute_reply.started": "2022-03-28T11:49:45.734724Z"
    },
    "papermill": {
     "duration": 0.366866,
     "end_time": "2022-03-28T11:57:52.326972",
     "exception": false,
     "start_time": "2022-03-28T11:57:51.960106",
     "status": "completed"
    },
    "tags": []
   },
   "outputs": [
    {
     "name": "stdout",
     "output_type": "stream",
     "text": [
      "Model: \"sequential_6\"\n",
      "_________________________________________________________________\n",
      "Layer (type)                 Output Shape              Param #   \n",
      "=================================================================\n",
      "conv2d (Conv2D)              (None, 26, 26, 32)        320       \n",
      "_________________________________________________________________\n",
      "max_pooling2d (MaxPooling2D) (None, 13, 13, 32)        0         \n",
      "_________________________________________________________________\n",
      "conv2d_1 (Conv2D)            (None, 11, 11, 64)        18496     \n",
      "_________________________________________________________________\n",
      "max_pooling2d_1 (MaxPooling2 (None, 5, 5, 64)          0         \n",
      "_________________________________________________________________\n",
      "conv2d_2 (Conv2D)            (None, 3, 3, 64)          36928     \n",
      "_________________________________________________________________\n",
      "flatten (Flatten)            (None, 576)               0         \n",
      "_________________________________________________________________\n",
      "dense (Dense)                (None, 512)               295424    \n",
      "_________________________________________________________________\n",
      "dense_1 (Dense)              (None, 10)                5130      \n",
      "=================================================================\n",
      "Total params: 356,298\n",
      "Trainable params: 356,298\n",
      "Non-trainable params: 0\n",
      "_________________________________________________________________\n"
     ]
    }
   ],
   "source": [
    "# Build the CNN model with 3 convolutional layers, 2 max pooling layers and 2 Dense layers\n",
    "model_cnn = tf.keras.models.Sequential([\n",
    "tf.keras.layers.Conv2D(filters=32, kernel_size=3, activation='relu', input_shape=(28, 28, 1)),\n",
    "tf.keras.layers.MaxPooling2D(pool_size=2),\n",
    "tf.keras.layers.Conv2D(filters=64, kernel_size=3, activation='relu'),\n",
    "tf.keras.layers.MaxPooling2D(pool_size=2),\n",
    "tf.keras.layers.Conv2D(filters=64, kernel_size=3, activation='relu'),\n",
    "tf.keras.layers.Flatten(),\n",
    "tf.keras.layers.Dense(512, activation='relu'),\n",
    "tf.keras.layers.Dense(10, activation='softmax')\n",
    "])\n",
    "model_cnn.summary()"
   ]
  },
  {
   "cell_type": "code",
   "execution_count": 35,
   "id": "42634ecd",
   "metadata": {
    "execution": {
     "iopub.execute_input": "2022-03-28T11:57:52.939087Z",
     "iopub.status.busy": "2022-03-28T11:57:52.938214Z",
     "iopub.status.idle": "2022-03-28T11:57:52.942785Z",
     "shell.execute_reply": "2022-03-28T11:57:52.943313Z",
     "shell.execute_reply.started": "2022-03-28T11:50:01.626429Z"
    },
    "papermill": {
     "duration": 0.311891,
     "end_time": "2022-03-28T11:57:52.943462",
     "exception": false,
     "start_time": "2022-03-28T11:57:52.631571",
     "status": "completed"
    },
    "tags": []
   },
   "outputs": [],
   "source": [
    "# Compile the model as usual\n",
    "model_cnn.compile(optimizer='rmsprop',\n",
    "loss='sparse_categorical_crossentropy',\n",
    "metrics=['accuracy'])"
   ]
  },
  {
   "cell_type": "code",
   "execution_count": 36,
   "id": "c4df6947",
   "metadata": {
    "execution": {
     "iopub.execute_input": "2022-03-28T11:57:53.562963Z",
     "iopub.status.busy": "2022-03-28T11:57:53.561989Z",
     "iopub.status.idle": "2022-03-28T11:58:10.945406Z",
     "shell.execute_reply": "2022-03-28T11:58:10.946267Z",
     "shell.execute_reply.started": "2022-03-28T11:50:18.576299Z"
    },
    "papermill": {
     "duration": 17.699839,
     "end_time": "2022-03-28T11:58:10.946440",
     "exception": false,
     "start_time": "2022-03-28T11:57:53.246601",
     "status": "completed"
    },
    "tags": []
   },
   "outputs": [
    {
     "name": "stdout",
     "output_type": "stream",
     "text": [
      "Epoch 1/5\n"
     ]
    },
    {
     "name": "stderr",
     "output_type": "stream",
     "text": [
      "2022-03-28 11:57:55.405742: I tensorflow/stream_executor/cuda/cuda_dnn.cc:369] Loaded cuDNN version 8005\n"
     ]
    },
    {
     "name": "stdout",
     "output_type": "stream",
     "text": [
      "469/469 [==============================] - 8s 5ms/step - loss: 0.1916 - accuracy: 0.9401 - val_loss: 0.0616 - val_accuracy: 0.9814\n",
      "Epoch 2/5\n",
      "469/469 [==============================] - 2s 5ms/step - loss: 0.0459 - accuracy: 0.9851 - val_loss: 0.0398 - val_accuracy: 0.9877\n",
      "Epoch 3/5\n",
      "469/469 [==============================] - 2s 5ms/step - loss: 0.0301 - accuracy: 0.9908 - val_loss: 0.0385 - val_accuracy: 0.9889\n",
      "Epoch 4/5\n",
      "469/469 [==============================] - 2s 4ms/step - loss: 0.0223 - accuracy: 0.9931 - val_loss: 0.0292 - val_accuracy: 0.9909\n",
      "Epoch 5/5\n",
      "469/469 [==============================] - 2s 4ms/step - loss: 0.0171 - accuracy: 0.9947 - val_loss: 0.0270 - val_accuracy: 0.9914\n"
     ]
    }
   ],
   "source": [
    "# Train the model\n",
    "history = model_cnn.fit(train_images3, train_labels, epochs=5, batch_size=128, validation_data=(test_images3, test_labels))"
   ]
  },
  {
   "cell_type": "code",
   "execution_count": 37,
   "id": "e22a1e68",
   "metadata": {
    "execution": {
     "iopub.execute_input": "2022-03-28T11:58:11.687087Z",
     "iopub.status.busy": "2022-03-28T11:58:11.686210Z",
     "iopub.status.idle": "2022-03-28T11:58:12.199063Z",
     "shell.execute_reply": "2022-03-28T11:58:12.199440Z",
     "shell.execute_reply.started": "2022-03-28T11:50:35.003794Z"
    },
    "papermill": {
     "duration": 0.89117,
     "end_time": "2022-03-28T11:58:12.199607",
     "exception": false,
     "start_time": "2022-03-28T11:58:11.308437",
     "status": "completed"
    },
    "tags": []
   },
   "outputs": [
    {
     "data": {
      "image/png": "[encoded data removed]",
      "text/plain": [
       "<Figure size 432x288 with 1 Axes>"
      ]
     },
     "metadata": {
      "needs_background": "light"
     },
     "output_type": "display_data"
    },
    {
     "data": {
      "image/png": "[encoded data removed]",
      "text/plain": [
       "<Figure size 432x288 with 1 Axes>"
      ]
     },
     "metadata": {
      "needs_background": "light"
     },
     "output_type": "display_data"
    }
   ],
   "source": [
    "history_dict = history.history\n",
    "loss = history_dict['loss']\n",
    "val_loss = history_dict['val_loss']\n",
    "acc = history_dict['accuracy']\n",
    "val_acc = history_dict['val_accuracy']\n",
    "\n",
    "epochs = range(1, len(loss) + 1)\n",
    "\n",
    "plt.plot(epochs, loss, 'b', label='Training Loss')\n",
    "plt.plot(epochs, val_loss, 'r', label='Validation Loss')\n",
    "plt.title('Training and Validation Loss')\n",
    "plt.xlabel('Epochs')\n",
    "plt.ylabel('Loss')\n",
    "plt.legend()\n",
    "plt.savefig('cnn_loss_plot.png')\n",
    "plt.show()\n",
    "\n",
    "plt.figure()\n",
    "\n",
    "plt.plot(epochs, acc, 'b', label='Training Accuracy')\n",
    "plt.plot(epochs, val_acc, 'r', label='Validation Accuracy')\n",
    "plt.title('Training and Validation Accuracy')\n",
    "plt.xlabel('Epochs')\n",
    "plt.ylabel('Accuracy')\n",
    "plt.legend()\n",
    "plt.savefig('cnn_acc_plot.png')\n",
    "plt.show()"
   ]
  }
 ],
 "metadata": {
  "kernelspec": {
   "display_name": "Python 3",
   "language": "python",
   "name": "python3"
  },
  "language_info": {
   "codemirror_mode": {
    "name": "ipython",
    "version": 3
   },
   "file_extension": ".py",
   "mimetype": "text/x-python",
   "name": "python",
   "nbconvert_exporter": "python",
   "pygments_lexer": "ipython3",
   "version": "3.7.12"
  },
  "papermill": {
   "default_parameters": {},
   "duration": 118.7213,
   "end_time": "2022-03-28T11:58:15.512946",
   "environment_variables": {},
   "exception": null,
   "input_path": "__notebook__.ipynb",
   "output_path": "__notebook__.ipynb",
   "parameters": {},
   "start_time": "2022-03-28T11:56:16.791646",
   "version": "2.3.3"
  }
 },
 "nbformat": 4,
 "nbformat_minor": 5
}
